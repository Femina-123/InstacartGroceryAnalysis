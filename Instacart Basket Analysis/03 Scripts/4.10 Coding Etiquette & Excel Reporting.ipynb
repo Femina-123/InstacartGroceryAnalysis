{
 "cells": [
  {
   "cell_type": "markdown",
   "id": "da65a3b0",
   "metadata": {},
   "source": [
    "# Coding Etiquette And Excel Reporting"
   ]
  },
  {
   "cell_type": "markdown",
   "id": "73de85a0",
   "metadata": {},
   "source": [
    "## Contents"
   ]
  },
  {
   "cell_type": "markdown",
   "id": "f9768aa3",
   "metadata": {},
   "source": [
    "### 1. Import libraries and data exported from 4.9.\n",
    "### 2. Address security implications.\n",
    "### 3.Comparing customer behavior in different geographic areas. \n",
    "### Analyze spending Habit.\n",
    "### 4. Create an exclusion flag for low-activity customers (customers with less than 5 orders) and exclude them from the data.\n",
    "### 5. Customer profiling.\n",
    "### 6.Create an appropriate visualization to show the distribution of profiles.\n",
    "### 7. Aggregate the max, mean, and min variables on a customer-profile level for usage frequency and expenditure.\n",
    "### 8. Comparing customer profile with region and department.\n",
    "### 9. Charts to illustrate the results.\n",
    "### 10.  Export your final data set."
   ]
  },
  {
   "cell_type": "markdown",
   "id": "5b24aa7f",
   "metadata": {},
   "source": [
    "## 1. Import libraries and data exported from 4.9"
   ]
  },
  {
   "cell_type": "code",
   "execution_count": 1,
   "id": "7b99fe82",
   "metadata": {},
   "outputs": [],
   "source": [
    "# Import Libraries\n",
    "import pandas as pd\n",
    "import numpy as np\n",
    "import os\n",
    "import dask.dataframe as dd"
   ]
  },
  {
   "cell_type": "code",
   "execution_count": 2,
   "id": "2011f68b",
   "metadata": {},
   "outputs": [],
   "source": [
    "# Define path\n",
    "path = r'C:\\Users\\Lukman\\OneDrive\\Documents\\FEMINA CF\\Data Immerssion\\Achievement4\\Instacart Basket Analysis'"
   ]
  },
  {
   "cell_type": "code",
   "execution_count": 3,
   "id": "46299366",
   "metadata": {
    "scrolled": true
   },
   "outputs": [],
   "source": [
    "# Import data\n",
    "ords_prods_all = pd.read_pickle(os.path.join(path, '02 Data', 'Prepared Data', 'orders_products_customers_merged.pkl'))"
   ]
  },
  {
   "cell_type": "markdown",
   "id": "b8c09f24",
   "metadata": {},
   "source": [
    "## 2. Address security implications"
   ]
  },
  {
   "cell_type": "code",
   "execution_count": null,
   "id": "f4375eff",
   "metadata": {},
   "outputs": [],
   "source": [
    "# Check data\n",
    "ords_prods_all.columns"
   ]
  },
  {
   "cell_type": "markdown",
   "id": "269b31ca",
   "metadata": {},
   "source": [
    "It contains several pieces of personally identifiable information (PII), including:\n",
    "\n",
    "first_name,\n",
    "surname,\n",
    "gender,\n",
    "state,\n",
    "age,\n",
    "date_joined,\n",
    "marital_status,\n",
    "income."
   ]
  },
  {
   "cell_type": "markdown",
   "id": "7c69b07c",
   "metadata": {},
   "source": [
    "## 3.Comparing customer behavior in different geographic areas. "
   ]
  },
  {
   "cell_type": "code",
   "execution_count": 4,
   "id": "3e5f9ae4",
   "metadata": {},
   "outputs": [],
   "source": [
    "\n",
    "# Dictionary to map states to regions\n",
    "regions = {\n",
    "    'Northeast': ['Connecticut', 'Maine', 'Massachusetts', 'New Hampshire', 'New Jersey', 'New York', 'Pennsylvania', 'Rhode Island', 'Vermont' ],\n",
    "    'Midwest': ['Wisconsin', 'Michigan', 'Illinois', 'Indiana', 'Ohio', 'North Dakota', 'South Dakota', 'Nebraska', 'Kansas', 'Minnesota', 'Iowa', 'Missouri'],\n",
    "    'South': ['Delaware', 'Maryland', 'District of Columbia', 'Virginia', 'West Virginia', 'North Carolina', 'South Carolina', 'Georgia', 'Florida', 'Kentucky', 'Tennessee', 'Mississippi', 'Alabama', 'Oklahoma', 'Texas', 'Arkansas', 'Louisiana'],\n",
    "    'West':['Idaho', 'Montana', 'Wyoming', 'Nevada', 'Utah', 'Colorado', 'Arizona', 'New Mexico', 'Alaska', 'Washington', 'Oregon', 'California', 'Hawaii']\n",
    "}\n"
   ]
  },
  {
   "cell_type": "code",
   "execution_count": 5,
   "id": "f6d7c4be",
   "metadata": {},
   "outputs": [],
   "source": [
    "# Function to map state to region\n",
    "def get_region(state):\n",
    "    for region, states in regions.items():\n",
    "        if state in states:\n",
    "            return region\n",
    "    return 'Unknown'"
   ]
  },
  {
   "cell_type": "code",
   "execution_count": 6,
   "id": "20a275cd",
   "metadata": {},
   "outputs": [],
   "source": [
    "# Apply the function to create the 'Region' column\n",
    "ords_prods_all['Region'] = ords_prods_all['state'].apply(get_region)"
   ]
  },
  {
   "cell_type": "code",
   "execution_count": null,
   "id": "8de67af7",
   "metadata": {},
   "outputs": [],
   "source": [
    "# Display the first few rows of the dataframe to verify the new column\n",
    "ords_prods_all.head()"
   ]
  },
  {
   "cell_type": "code",
   "execution_count": null,
   "id": "cc5d002c",
   "metadata": {},
   "outputs": [],
   "source": [
    "# Check data\n",
    "ords_prods_all['Region'].value_counts(dropna = False)"
   ]
  },
  {
   "cell_type": "markdown",
   "id": "81268f0f",
   "metadata": {},
   "source": [
    "## Analyze spending Habit"
   ]
  },
  {
   "cell_type": "code",
   "execution_count": 7,
   "id": "1bfcaede",
   "metadata": {},
   "outputs": [
    {
     "data": {
      "text/html": [
       "<div>\n",
       "<style scoped>\n",
       "    .dataframe tbody tr th:only-of-type {\n",
       "        vertical-align: middle;\n",
       "    }\n",
       "\n",
       "    .dataframe tbody tr th {\n",
       "        vertical-align: top;\n",
       "    }\n",
       "\n",
       "    .dataframe thead th {\n",
       "        text-align: right;\n",
       "    }\n",
       "</style>\n",
       "<table border=\"1\" class=\"dataframe\">\n",
       "  <thead>\n",
       "    <tr style=\"text-align: right;\">\n",
       "      <th>spender_flag</th>\n",
       "      <th>High_spender</th>\n",
       "      <th>Low_spender</th>\n",
       "    </tr>\n",
       "    <tr>\n",
       "      <th>Region</th>\n",
       "      <th></th>\n",
       "      <th></th>\n",
       "    </tr>\n",
       "  </thead>\n",
       "  <tbody>\n",
       "    <tr>\n",
       "      <th>Midwest</th>\n",
       "      <td>139516</td>\n",
       "      <td>7441239</td>\n",
       "    </tr>\n",
       "    <tr>\n",
       "      <th>Northeast</th>\n",
       "      <td>98184</td>\n",
       "      <td>5614511</td>\n",
       "    </tr>\n",
       "    <tr>\n",
       "      <th>South</th>\n",
       "      <td>189841</td>\n",
       "      <td>10582034</td>\n",
       "    </tr>\n",
       "    <tr>\n",
       "      <th>West</th>\n",
       "      <td>147755</td>\n",
       "      <td>8132435</td>\n",
       "    </tr>\n",
       "  </tbody>\n",
       "</table>\n",
       "</div>"
      ],
      "text/plain": [
       "spender_flag  High_spender  Low_spender\n",
       "Region                                 \n",
       "Midwest             139516      7441239\n",
       "Northeast            98184      5614511\n",
       "South               189841     10582034\n",
       "West                147755      8132435"
      ]
     },
     "execution_count": 7,
     "metadata": {},
     "output_type": "execute_result"
    }
   ],
   "source": [
    "# Create region_spending crosstab\n",
    "region_spending_crosstab = pd.crosstab(ords_prods_all['Region'], ords_prods_all['spender_flag'], dropna = False)\n",
    "\n",
    "region_spending_crosstab"
   ]
  },
  {
   "cell_type": "markdown",
   "id": "256c1f79",
   "metadata": {},
   "source": [
    "## 4. Create an exclusion flag for low-activity customers (customers with less than 5 orders) and exclude them from the data."
   ]
  },
  {
   "cell_type": "code",
   "execution_count": 8,
   "id": "84db8848",
   "metadata": {},
   "outputs": [],
   "source": [
    "# Exclude customers with max_order less than 5 \n",
    "ords_prods_all.loc[ords_prods_all['max_order'] < 5, 'exclusion_flag'] = 'Exclude'"
   ]
  },
  {
   "cell_type": "code",
   "execution_count": 9,
   "id": "8d285725",
   "metadata": {},
   "outputs": [],
   "source": [
    "# Keep customers where max_order is greater than or equal to 5\n",
    "ords_prods_all.loc[ords_prods_all['max_order'] >= 5, 'exclusion_flag'] = 'Keep'"
   ]
  },
  {
   "cell_type": "code",
   "execution_count": null,
   "id": "ef3bf50e",
   "metadata": {},
   "outputs": [],
   "source": [
    "# Check table\n",
    "ords_prods_all.head()"
   ]
  },
  {
   "cell_type": "code",
   "execution_count": 10,
   "id": "5b95746d",
   "metadata": {},
   "outputs": [
    {
     "data": {
      "text/plain": [
       "Keep       30964564\n",
       "Exclude     1440295\n",
       "Name: exclusion_flag, dtype: int64"
      ]
     },
     "execution_count": 10,
     "metadata": {},
     "output_type": "execute_result"
    }
   ],
   "source": [
    "# Check frequencies\n",
    "ords_prods_all['exclusion_flag'].value_counts(dropna = False)"
   ]
  },
  {
   "cell_type": "code",
   "execution_count": 11,
   "id": "ec66ccb4",
   "metadata": {},
   "outputs": [],
   "source": [
    "# Create sample without 'exclude' rows called ords_prods_in\n",
    "ords_prods_activecust = ords_prods_all[ords_prods_all['exclusion_flag'] == 'Keep']"
   ]
  },
  {
   "cell_type": "code",
   "execution_count": null,
   "id": "984d08ca",
   "metadata": {},
   "outputs": [],
   "source": [
    "# Check sample\n",
    "ords_prods_activecust.shape"
   ]
  },
  {
   "cell_type": "markdown",
   "id": "17ebd100",
   "metadata": {},
   "source": [
    "## Export sample"
   ]
  },
  {
   "cell_type": "code",
   "execution_count": null,
   "id": "20b337ec",
   "metadata": {},
   "outputs": [],
   "source": [
    "ords_prods_activecust.to_pickle(os.path.join(path, '02 Data', 'Prepared Data', 'orders_products_activecustomers.pkl'))"
   ]
  },
  {
   "cell_type": "markdown",
   "id": "ad439b4f",
   "metadata": {},
   "source": [
    "## 5. Customer profiling"
   ]
  },
  {
   "cell_type": "markdown",
   "id": "b4d8e3d7",
   "metadata": {},
   "source": [
    "Create a profiling variable based on age, income, certain goods in the “department_id” column, and number of dependents. \n"
   ]
  },
  {
   "cell_type": "code",
   "execution_count": 12,
   "id": "10551a0f",
   "metadata": {},
   "outputs": [
    {
     "name": "stderr",
     "output_type": "stream",
     "text": [
      "C:\\Users\\Lukman\\AppData\\Local\\Temp\\ipykernel_15544\\706547997.py:2: SettingWithCopyWarning: \n",
      "A value is trying to be set on a copy of a slice from a DataFrame.\n",
      "Try using .loc[row_indexer,col_indexer] = value instead\n",
      "\n",
      "See the caveats in the documentation: https://pandas.pydata.org/pandas-docs/stable/user_guide/indexing.html#returning-a-view-versus-a-copy\n",
      "  ords_prods_activecust['profile'] = 'Other'\n",
      "C:\\Users\\Lukman\\AppData\\Roaming\\Python\\Python39\\site-packages\\pandas\\core\\indexing.py:1817: SettingWithCopyWarning: \n",
      "A value is trying to be set on a copy of a slice from a DataFrame.\n",
      "Try using .loc[row_indexer,col_indexer] = value instead\n",
      "\n",
      "See the caveats in the documentation: https://pandas.pydata.org/pandas-docs/stable/user_guide/indexing.html#returning-a-view-versus-a-copy\n",
      "  self._setitem_single_column(loc, value, pi)\n"
     ]
    }
   ],
   "source": [
    "# Initialize the 'profile' column with 'Other'\n",
    "ords_prods_activecust['profile'] = 'Other'\n",
    "\n",
    "# Assign 'Single Adult' profile\n",
    "ords_prods_activecust.loc[(ords_prods_activecust['age'] <= 35) & (ords_prods_activecust['income'] > 70000) & (ords_prods_activecust['n_dependants'] == 0), 'profile'] = 'Single Adult'\n",
    "\n",
    "# Assign 'Young Parent' profile\n",
    "ords_prods_activecust.loc[(ords_prods_activecust['age'] <= 35) & (ords_prods_activecust['income'] <= 70000) & (ords_prods_activecust['n_dependants'] > 0), 'profile'] = 'Young Parent'\n",
    "\n",
    "# Assign 'Established Adult' profile\n",
    "ords_prods_activecust.loc[(ords_prods_activecust['age'] >= 36) & (ords_prods_activecust['age'] <= 55) & (ords_prods_activecust['income'] > 40000), 'profile'] = 'Established Adult'\n",
    "\n",
    "# Assign 'Senior' profile\n",
    "ords_prods_activecust.loc[ords_prods_activecust['age'] > 55, 'profile'] = 'Senior'\n",
    "\n",
    "# Assign 'Budget Shopper' profile\n",
    "ords_prods_activecust.loc[ords_prods_activecust['income'] <= 40000, 'profile'] = 'Budget Shopper'\n",
    "\n",
    "\n"
   ]
  },
  {
   "cell_type": "code",
   "execution_count": null,
   "id": "332242e4",
   "metadata": {
    "scrolled": false
   },
   "outputs": [],
   "source": [
    "ords_prods_activecust.head"
   ]
  },
  {
   "cell_type": "markdown",
   "id": "31bcd700",
   "metadata": {},
   "source": [
    "We can further refine the profiles by incorporating order patterns (day of the week and hour of the day)."
   ]
  },
  {
   "cell_type": "code",
   "execution_count": 13,
   "id": "cecbbd97",
   "metadata": {},
   "outputs": [
    {
     "name": "stderr",
     "output_type": "stream",
     "text": [
      "C:\\Users\\Lukman\\AppData\\Local\\Temp\\ipykernel_15544\\2950622908.py:2: SettingWithCopyWarning: \n",
      "A value is trying to be set on a copy of a slice from a DataFrame.\n",
      "Try using .loc[row_indexer,col_indexer] = value instead\n",
      "\n",
      "See the caveats in the documentation: https://pandas.pydata.org/pandas-docs/stable/user_guide/indexing.html#returning-a-view-versus-a-copy\n",
      "  ords_prods_activecust['profile'] = 'Other'\n"
     ]
    },
    {
     "data": {
      "text/html": [
       "<div>\n",
       "<style scoped>\n",
       "    .dataframe tbody tr th:only-of-type {\n",
       "        vertical-align: middle;\n",
       "    }\n",
       "\n",
       "    .dataframe tbody tr th {\n",
       "        vertical-align: top;\n",
       "    }\n",
       "\n",
       "    .dataframe thead th {\n",
       "        text-align: right;\n",
       "    }\n",
       "</style>\n",
       "<table border=\"1\" class=\"dataframe\">\n",
       "  <thead>\n",
       "    <tr style=\"text-align: right;\">\n",
       "      <th></th>\n",
       "      <th>product_id</th>\n",
       "      <th>product_name</th>\n",
       "      <th>aisle_id</th>\n",
       "      <th>department_id</th>\n",
       "      <th>prices</th>\n",
       "      <th>order_id</th>\n",
       "      <th>user_id</th>\n",
       "      <th>order_number</th>\n",
       "      <th>orders_day_of_week</th>\n",
       "      <th>order_hour_of_day</th>\n",
       "      <th>...</th>\n",
       "      <th>state</th>\n",
       "      <th>age</th>\n",
       "      <th>date_joined</th>\n",
       "      <th>n_dependants</th>\n",
       "      <th>marital_status</th>\n",
       "      <th>income</th>\n",
       "      <th>_merge</th>\n",
       "      <th>Region</th>\n",
       "      <th>exclusion_flag</th>\n",
       "      <th>profile</th>\n",
       "    </tr>\n",
       "  </thead>\n",
       "  <tbody>\n",
       "    <tr>\n",
       "      <th>0</th>\n",
       "      <td>1</td>\n",
       "      <td>Chocolate Sandwich Cookies</td>\n",
       "      <td>61</td>\n",
       "      <td>19</td>\n",
       "      <td>5.800781</td>\n",
       "      <td>3139998</td>\n",
       "      <td>138</td>\n",
       "      <td>28</td>\n",
       "      <td>6</td>\n",
       "      <td>11</td>\n",
       "      <td>...</td>\n",
       "      <td>Minnesota</td>\n",
       "      <td>81</td>\n",
       "      <td>8/1/2019</td>\n",
       "      <td>1</td>\n",
       "      <td>married</td>\n",
       "      <td>49620</td>\n",
       "      <td>both</td>\n",
       "      <td>Midwest</td>\n",
       "      <td>Keep</td>\n",
       "      <td>Morning Senior</td>\n",
       "    </tr>\n",
       "    <tr>\n",
       "      <th>1</th>\n",
       "      <td>1</td>\n",
       "      <td>Chocolate Sandwich Cookies</td>\n",
       "      <td>61</td>\n",
       "      <td>19</td>\n",
       "      <td>5.800781</td>\n",
       "      <td>1977647</td>\n",
       "      <td>138</td>\n",
       "      <td>30</td>\n",
       "      <td>6</td>\n",
       "      <td>17</td>\n",
       "      <td>...</td>\n",
       "      <td>Minnesota</td>\n",
       "      <td>81</td>\n",
       "      <td>8/1/2019</td>\n",
       "      <td>1</td>\n",
       "      <td>married</td>\n",
       "      <td>49620</td>\n",
       "      <td>both</td>\n",
       "      <td>Midwest</td>\n",
       "      <td>Keep</td>\n",
       "      <td>Senior</td>\n",
       "    </tr>\n",
       "    <tr>\n",
       "      <th>2</th>\n",
       "      <td>1</td>\n",
       "      <td>Chocolate Sandwich Cookies</td>\n",
       "      <td>61</td>\n",
       "      <td>19</td>\n",
       "      <td>5.800781</td>\n",
       "      <td>389851</td>\n",
       "      <td>709</td>\n",
       "      <td>2</td>\n",
       "      <td>0</td>\n",
       "      <td>21</td>\n",
       "      <td>...</td>\n",
       "      <td>Vermont</td>\n",
       "      <td>66</td>\n",
       "      <td>6/16/2018</td>\n",
       "      <td>2</td>\n",
       "      <td>married</td>\n",
       "      <td>158302</td>\n",
       "      <td>both</td>\n",
       "      <td>Northeast</td>\n",
       "      <td>Keep</td>\n",
       "      <td>Senior</td>\n",
       "    </tr>\n",
       "    <tr>\n",
       "      <th>3</th>\n",
       "      <td>196</td>\n",
       "      <td>Soda</td>\n",
       "      <td>77</td>\n",
       "      <td>7</td>\n",
       "      <td>9.000000</td>\n",
       "      <td>147387</td>\n",
       "      <td>709</td>\n",
       "      <td>4</td>\n",
       "      <td>0</td>\n",
       "      <td>21</td>\n",
       "      <td>...</td>\n",
       "      <td>Vermont</td>\n",
       "      <td>66</td>\n",
       "      <td>6/16/2018</td>\n",
       "      <td>2</td>\n",
       "      <td>married</td>\n",
       "      <td>158302</td>\n",
       "      <td>both</td>\n",
       "      <td>Northeast</td>\n",
       "      <td>Keep</td>\n",
       "      <td>Senior</td>\n",
       "    </tr>\n",
       "    <tr>\n",
       "      <th>4</th>\n",
       "      <td>196</td>\n",
       "      <td>Soda</td>\n",
       "      <td>77</td>\n",
       "      <td>7</td>\n",
       "      <td>9.000000</td>\n",
       "      <td>2322397</td>\n",
       "      <td>709</td>\n",
       "      <td>5</td>\n",
       "      <td>1</td>\n",
       "      <td>21</td>\n",
       "      <td>...</td>\n",
       "      <td>Vermont</td>\n",
       "      <td>66</td>\n",
       "      <td>6/16/2018</td>\n",
       "      <td>2</td>\n",
       "      <td>married</td>\n",
       "      <td>158302</td>\n",
       "      <td>both</td>\n",
       "      <td>Northeast</td>\n",
       "      <td>Keep</td>\n",
       "      <td>Senior</td>\n",
       "    </tr>\n",
       "  </tbody>\n",
       "</table>\n",
       "<p>5 rows × 36 columns</p>\n",
       "</div>"
      ],
      "text/plain": [
       "   product_id                product_name  aisle_id  department_id    prices  \\\n",
       "0           1  Chocolate Sandwich Cookies        61             19  5.800781   \n",
       "1           1  Chocolate Sandwich Cookies        61             19  5.800781   \n",
       "2           1  Chocolate Sandwich Cookies        61             19  5.800781   \n",
       "3         196                        Soda        77              7  9.000000   \n",
       "4         196                        Soda        77              7  9.000000   \n",
       "\n",
       "   order_id user_id  order_number  orders_day_of_week  order_hour_of_day  ...  \\\n",
       "0   3139998     138            28                   6                 11  ...   \n",
       "1   1977647     138            30                   6                 17  ...   \n",
       "2    389851     709             2                   0                 21  ...   \n",
       "3    147387     709             4                   0                 21  ...   \n",
       "4   2322397     709             5                   1                 21  ...   \n",
       "\n",
       "       state  age  date_joined n_dependants marital_status  income _merge  \\\n",
       "0  Minnesota   81     8/1/2019            1        married   49620   both   \n",
       "1  Minnesota   81     8/1/2019            1        married   49620   both   \n",
       "2    Vermont   66    6/16/2018            2        married  158302   both   \n",
       "3    Vermont   66    6/16/2018            2        married  158302   both   \n",
       "4    Vermont   66    6/16/2018            2        married  158302   both   \n",
       "\n",
       "      Region exclusion_flag         profile  \n",
       "0    Midwest           Keep  Morning Senior  \n",
       "1    Midwest           Keep          Senior  \n",
       "2  Northeast           Keep          Senior  \n",
       "3  Northeast           Keep          Senior  \n",
       "4  Northeast           Keep          Senior  \n",
       "\n",
       "[5 rows x 36 columns]"
      ]
     },
     "execution_count": 13,
     "metadata": {},
     "output_type": "execute_result"
    }
   ],
   "source": [
    "\n",
    "\n",
    "# Initialize the 'profile' column with 'Other'\n",
    "ords_prods_activecust['profile'] = 'Other'\n",
    "\n",
    "# Assign 'Single Adult' profile\n",
    "ords_prods_activecust.loc[(ords_prods_activecust['age'] <= 35) & (ords_prods_activecust['income'] > 70000) & (ords_prods_activecust['n_dependants'] == 0), 'profile'] = 'Single Adult'\n",
    "\n",
    "# Assign 'Young Parent' profile\n",
    "ords_prods_activecust.loc[(ords_prods_activecust['age'] <= 35) & (ords_prods_activecust['income'] <= 70000) & (ords_prods_activecust['n_dependants'] > 0), 'profile'] = 'Young Parent'\n",
    "\n",
    "# Assign 'Established Adult' profile\n",
    "ords_prods_activecust.loc[(ords_prods_activecust['age'] >= 36) & (ords_prods_activecust['age'] <= 55) & (ords_prods_activecust['income'] > 40000), 'profile'] = 'Established Adult'\n",
    "\n",
    "# Refine 'Established Adult' based on shopping patterns\n",
    "ords_prods_activecust.loc[(ords_prods_activecust['age'] >= 36) & (ords_prods_activecust['age'] <= 55) & (ords_prods_activecust['income'] > 40000) & (ords_prods_activecust['orders_day_of_week'].isin([5, 6])), 'profile'] = 'Weekend Shopper - Established Adult'\n",
    "\n",
    "# Assign 'Senior' profile\n",
    "ords_prods_activecust.loc[ords_prods_activecust['age'] > 55, 'profile'] = 'Senior'\n",
    "\n",
    "# Refine 'Senior' based on shopping patterns\n",
    "ords_prods_activecust.loc[(ords_prods_activecust['age'] > 55) & (ords_prods_activecust['order_hour_of_day'] < 12), 'profile'] = 'Morning Senior'\n",
    "\n",
    "# Assign 'Budget Shopper' profile\n",
    "ords_prods_activecust.loc[ords_prods_activecust['income'] <= 40000, 'profile'] = 'Budget Shopper'\n",
    "\n",
    "\n",
    "# Display the first few rows to verify the new column\n",
    "ords_prods_activecust.head()\n"
   ]
  },
  {
   "cell_type": "markdown",
   "id": "6ba74340",
   "metadata": {},
   "source": [
    "## 6.Create an appropriate visualization to show the distribution of profiles."
   ]
  },
  {
   "cell_type": "code",
   "execution_count": 14,
   "id": "17cc026a",
   "metadata": {},
   "outputs": [],
   "source": [
    "# Import visualization libraries\n",
    "import matplotlib.pyplot as plt\n",
    "import seaborn as sns\n",
    "import scipy"
   ]
  },
  {
   "cell_type": "code",
   "execution_count": 15,
   "id": "c3d10bc4",
   "metadata": {},
   "outputs": [
    {
     "data": {
      "text/plain": [
       "Senior                                 7750041\n",
       "Established Adult                      6740307\n",
       "Morning Senior                         4241400\n",
       "Other                                  4161220\n",
       "Young Parent                           2923177\n",
       "Weekend Shopper - Established Adult    2500212\n",
       "Budget Shopper                         1612025\n",
       "Single Adult                           1036182\n",
       "Name: profile, dtype: int64"
      ]
     },
     "execution_count": 15,
     "metadata": {},
     "output_type": "execute_result"
    }
   ],
   "source": [
    "# Count the number of occurrences for each profile\n",
    "profile_counts = ords_prods_activecust['profile'].value_counts()\n",
    "\n",
    "profile_counts"
   ]
  },
  {
   "cell_type": "code",
   "execution_count": 16,
   "id": "58f0209c",
   "metadata": {},
   "outputs": [
    {
     "data": {
      "image/png": "[encoded data removed]",
      "text/plain": [
       "<Figure size 720x432 with 1 Axes>"
      ]
     },
     "metadata": {
      "needs_background": "light"
     },
     "output_type": "display_data"
    }
   ],
   "source": [
    "# Create a bar plot for the profile distribution\n",
    "plt.figure(figsize=(10, 6))\n",
    "\n",
    "sns.barplot(x=profile_counts.index, y=profile_counts.values, palette=\"viridis\")\n",
    "\n",
    "# Add titles and labels\n",
    "plt.title('Distribution of Customer Profiles')\n",
    "plt.xlabel('Customer Profile')\n",
    "plt.ylabel('Count')\n",
    "plt.xticks(rotation=45)\n",
    "plt.tight_layout()\n",
    "plt.savefig(os.path.join(path, '04 Analysis', 'Visualizations', 'distribution_of_customer_profiles.png'), bbox_inches = 'tight')\n"
   ]
  },
  {
   "cell_type": "markdown",
   "id": "3b6fc95f",
   "metadata": {},
   "source": [
    "## 7. Aggregate the max, mean, and min variables on a customer-profile level for usage frequency and expenditure."
   ]
  },
  {
   "cell_type": "code",
   "execution_count": null,
   "id": "617ca527",
   "metadata": {},
   "outputs": [],
   "source": [
    "# Group by 'profile' and aggregate the max, mean, and min for 'order_number' and 'average_spend'\n",
    "profile_aggregates = ords_prods_activecust.groupby('profile').agg({\n",
    "    'order_number': ['max', 'mean', 'min'],\n",
    "    'average_spend': ['max', 'mean', 'min']\n",
    "}).reset_index()"
   ]
  },
  {
   "cell_type": "code",
   "execution_count": null,
   "id": "40e34cb3",
   "metadata": {},
   "outputs": [],
   "source": [
    "# Flatten the MultiIndex columns\n",
    "profile_aggregates.columns = ['_'.join(col).strip() if col[1] else col[0] for col in profile_aggregates.columns.values]\n"
   ]
  },
  {
   "cell_type": "code",
   "execution_count": null,
   "id": "583ec3f1",
   "metadata": {},
   "outputs": [],
   "source": [
    "# Rename columns for better readability\n",
    "profile_aggregates.columns = ['Profile', 'Max Orders', 'Mean Orders', 'Min Orders', 'Max Spend', 'Mean Spend', 'Min Spend']\n"
   ]
  },
  {
   "cell_type": "code",
   "execution_count": null,
   "id": "50aa9b6b",
   "metadata": {},
   "outputs": [],
   "source": [
    "# Display the aggregated DataFrame\n",
    "print(profile_aggregates)"
   ]
  },
  {
   "cell_type": "markdown",
   "id": "c48dda59",
   "metadata": {},
   "source": [
    "## 8. Comparing customer profile with region and department."
   ]
  },
  {
   "cell_type": "code",
   "execution_count": 17,
   "id": "ffb707a7",
   "metadata": {},
   "outputs": [],
   "source": [
    "# Get names of each department back into the data\n",
    "df_dep = pd.read_csv(os.path.join(path, '02 Data', 'Original Data', 'departments.csv'))"
   ]
  },
  {
   "cell_type": "code",
   "execution_count": 18,
   "id": "1ee064e2",
   "metadata": {},
   "outputs": [
    {
     "data": {
      "text/html": [
       "<div>\n",
       "<style scoped>\n",
       "    .dataframe tbody tr th:only-of-type {\n",
       "        vertical-align: middle;\n",
       "    }\n",
       "\n",
       "    .dataframe tbody tr th {\n",
       "        vertical-align: top;\n",
       "    }\n",
       "\n",
       "    .dataframe thead th {\n",
       "        text-align: right;\n",
       "    }\n",
       "</style>\n",
       "<table border=\"1\" class=\"dataframe\">\n",
       "  <thead>\n",
       "    <tr style=\"text-align: right;\">\n",
       "      <th></th>\n",
       "      <th>department_id</th>\n",
       "      <th>1</th>\n",
       "      <th>2</th>\n",
       "      <th>3</th>\n",
       "      <th>4</th>\n",
       "      <th>5</th>\n",
       "      <th>6</th>\n",
       "      <th>7</th>\n",
       "      <th>8</th>\n",
       "      <th>9</th>\n",
       "      <th>...</th>\n",
       "      <th>12</th>\n",
       "      <th>13</th>\n",
       "      <th>14</th>\n",
       "      <th>15</th>\n",
       "      <th>16</th>\n",
       "      <th>17</th>\n",
       "      <th>18</th>\n",
       "      <th>19</th>\n",
       "      <th>20</th>\n",
       "      <th>21</th>\n",
       "    </tr>\n",
       "  </thead>\n",
       "  <tbody>\n",
       "    <tr>\n",
       "      <th>0</th>\n",
       "      <td>department</td>\n",
       "      <td>frozen</td>\n",
       "      <td>other</td>\n",
       "      <td>bakery</td>\n",
       "      <td>produce</td>\n",
       "      <td>alcohol</td>\n",
       "      <td>international</td>\n",
       "      <td>beverages</td>\n",
       "      <td>pets</td>\n",
       "      <td>dry goods pasta</td>\n",
       "      <td>...</td>\n",
       "      <td>meat seafood</td>\n",
       "      <td>pantry</td>\n",
       "      <td>breakfast</td>\n",
       "      <td>canned goods</td>\n",
       "      <td>dairy eggs</td>\n",
       "      <td>household</td>\n",
       "      <td>babies</td>\n",
       "      <td>snacks</td>\n",
       "      <td>deli</td>\n",
       "      <td>missing</td>\n",
       "    </tr>\n",
       "  </tbody>\n",
       "</table>\n",
       "<p>1 rows × 22 columns</p>\n",
       "</div>"
      ],
      "text/plain": [
       "  department_id       1      2       3        4        5              6  \\\n",
       "0    department  frozen  other  bakery  produce  alcohol  international   \n",
       "\n",
       "           7     8                9  ...            12      13         14  \\\n",
       "0  beverages  pets  dry goods pasta  ...  meat seafood  pantry  breakfast   \n",
       "\n",
       "             15          16         17      18      19    20       21  \n",
       "0  canned goods  dairy eggs  household  babies  snacks  deli  missing  \n",
       "\n",
       "[1 rows x 22 columns]"
      ]
     },
     "execution_count": 18,
     "metadata": {},
     "output_type": "execute_result"
    }
   ],
   "source": [
    "df_dep"
   ]
  },
  {
   "cell_type": "code",
   "execution_count": 19,
   "id": "243666cc",
   "metadata": {},
   "outputs": [],
   "source": [
    "# Transpose:\n",
    "df_dep_t = df_dep.T"
   ]
  },
  {
   "cell_type": "code",
   "execution_count": 20,
   "id": "c7db0804",
   "metadata": {},
   "outputs": [],
   "source": [
    "# Create index\n",
    "df_dep_t.reset_index(inplace = True)"
   ]
  },
  {
   "cell_type": "code",
   "execution_count": 21,
   "id": "2ce276da",
   "metadata": {},
   "outputs": [],
   "source": [
    "# Copy row 0 into variable\n",
    "new_header = df_dep_t.iloc[0]"
   ]
  },
  {
   "cell_type": "code",
   "execution_count": 22,
   "id": "d653f5c7",
   "metadata": {},
   "outputs": [],
   "source": [
    "# Remove row 0\n",
    "df_dep_t = df_dep_t[1:]"
   ]
  },
  {
   "cell_type": "code",
   "execution_count": 23,
   "id": "11466864",
   "metadata": {},
   "outputs": [],
   "source": [
    "# Assign header row\n",
    "df_dep_t.columns = new_header"
   ]
  },
  {
   "cell_type": "code",
   "execution_count": 24,
   "id": "5e10cc91",
   "metadata": {},
   "outputs": [
    {
     "data": {
      "text/html": [
       "<div>\n",
       "<style scoped>\n",
       "    .dataframe tbody tr th:only-of-type {\n",
       "        vertical-align: middle;\n",
       "    }\n",
       "\n",
       "    .dataframe tbody tr th {\n",
       "        vertical-align: top;\n",
       "    }\n",
       "\n",
       "    .dataframe thead th {\n",
       "        text-align: right;\n",
       "    }\n",
       "</style>\n",
       "<table border=\"1\" class=\"dataframe\">\n",
       "  <thead>\n",
       "    <tr style=\"text-align: right;\">\n",
       "      <th></th>\n",
       "      <th>department_id</th>\n",
       "      <th>department</th>\n",
       "    </tr>\n",
       "  </thead>\n",
       "  <tbody>\n",
       "    <tr>\n",
       "      <th>1</th>\n",
       "      <td>1</td>\n",
       "      <td>frozen</td>\n",
       "    </tr>\n",
       "    <tr>\n",
       "      <th>2</th>\n",
       "      <td>2</td>\n",
       "      <td>other</td>\n",
       "    </tr>\n",
       "    <tr>\n",
       "      <th>3</th>\n",
       "      <td>3</td>\n",
       "      <td>bakery</td>\n",
       "    </tr>\n",
       "    <tr>\n",
       "      <th>4</th>\n",
       "      <td>4</td>\n",
       "      <td>produce</td>\n",
       "    </tr>\n",
       "    <tr>\n",
       "      <th>5</th>\n",
       "      <td>5</td>\n",
       "      <td>alcohol</td>\n",
       "    </tr>\n",
       "    <tr>\n",
       "      <th>6</th>\n",
       "      <td>6</td>\n",
       "      <td>international</td>\n",
       "    </tr>\n",
       "    <tr>\n",
       "      <th>7</th>\n",
       "      <td>7</td>\n",
       "      <td>beverages</td>\n",
       "    </tr>\n",
       "    <tr>\n",
       "      <th>8</th>\n",
       "      <td>8</td>\n",
       "      <td>pets</td>\n",
       "    </tr>\n",
       "    <tr>\n",
       "      <th>9</th>\n",
       "      <td>9</td>\n",
       "      <td>dry goods pasta</td>\n",
       "    </tr>\n",
       "    <tr>\n",
       "      <th>10</th>\n",
       "      <td>10</td>\n",
       "      <td>bulk</td>\n",
       "    </tr>\n",
       "    <tr>\n",
       "      <th>11</th>\n",
       "      <td>11</td>\n",
       "      <td>personal care</td>\n",
       "    </tr>\n",
       "    <tr>\n",
       "      <th>12</th>\n",
       "      <td>12</td>\n",
       "      <td>meat seafood</td>\n",
       "    </tr>\n",
       "    <tr>\n",
       "      <th>13</th>\n",
       "      <td>13</td>\n",
       "      <td>pantry</td>\n",
       "    </tr>\n",
       "    <tr>\n",
       "      <th>14</th>\n",
       "      <td>14</td>\n",
       "      <td>breakfast</td>\n",
       "    </tr>\n",
       "    <tr>\n",
       "      <th>15</th>\n",
       "      <td>15</td>\n",
       "      <td>canned goods</td>\n",
       "    </tr>\n",
       "    <tr>\n",
       "      <th>16</th>\n",
       "      <td>16</td>\n",
       "      <td>dairy eggs</td>\n",
       "    </tr>\n",
       "    <tr>\n",
       "      <th>17</th>\n",
       "      <td>17</td>\n",
       "      <td>household</td>\n",
       "    </tr>\n",
       "    <tr>\n",
       "      <th>18</th>\n",
       "      <td>18</td>\n",
       "      <td>babies</td>\n",
       "    </tr>\n",
       "    <tr>\n",
       "      <th>19</th>\n",
       "      <td>19</td>\n",
       "      <td>snacks</td>\n",
       "    </tr>\n",
       "    <tr>\n",
       "      <th>20</th>\n",
       "      <td>20</td>\n",
       "      <td>deli</td>\n",
       "    </tr>\n",
       "    <tr>\n",
       "      <th>21</th>\n",
       "      <td>21</td>\n",
       "      <td>missing</td>\n",
       "    </tr>\n",
       "  </tbody>\n",
       "</table>\n",
       "</div>"
      ],
      "text/plain": [
       "0  department_id       department\n",
       "1              1           frozen\n",
       "2              2            other\n",
       "3              3           bakery\n",
       "4              4          produce\n",
       "5              5          alcohol\n",
       "6              6    international\n",
       "7              7        beverages\n",
       "8              8             pets\n",
       "9              9  dry goods pasta\n",
       "10            10             bulk\n",
       "11            11    personal care\n",
       "12            12     meat seafood\n",
       "13            13           pantry\n",
       "14            14        breakfast\n",
       "15            15     canned goods\n",
       "16            16       dairy eggs\n",
       "17            17        household\n",
       "18            18           babies\n",
       "19            19           snacks\n",
       "20            20             deli\n",
       "21            21          missing"
      ]
     },
     "execution_count": 24,
     "metadata": {},
     "output_type": "execute_result"
    }
   ],
   "source": [
    "# Check code\n",
    "df_dep_t"
   ]
  },
  {
   "cell_type": "code",
   "execution_count": 25,
   "id": "44f4d7d6",
   "metadata": {},
   "outputs": [],
   "source": [
    "# Ensure department_id is int8 to merge\n",
    "df_dep_t['department_id'] = df_dep_t['department_id'].astype('int8')"
   ]
  },
  {
   "cell_type": "code",
   "execution_count": 26,
   "id": "f5c97b42",
   "metadata": {},
   "outputs": [
    {
     "data": {
      "text/plain": [
       "dtype('int8')"
      ]
     },
     "execution_count": 26,
     "metadata": {},
     "output_type": "execute_result"
    }
   ],
   "source": [
    "ords_prods_activecust['department_id'].dtype"
   ]
  },
  {
   "cell_type": "code",
   "execution_count": null,
   "id": "8d5322b7",
   "metadata": {},
   "outputs": [],
   "source": [
    "#Merge data\n",
    "chunk_size = 100000\n",
    "result = []\n",
    "\n",
    "for start in range(0, len(ords_prods_activecust), chunk_size):\n",
    "    end = start + chunk_size\n",
    "    chunk = ords_prods_activecust[start:end]\n",
    "    merged_chunk = chunk.merge(df_dep_t, on='department_id', indicator='merge1')\n",
    "    result.append(merged_chunk)\n",
    "\n",
    "\n",
    "full_data = pd.concat(result, ignore_index=True)"
   ]
  },
  {
   "cell_type": "code",
   "execution_count": null,
   "id": "533d75fd",
   "metadata": {},
   "outputs": [],
   "source": []
  },
  {
   "cell_type": "markdown",
   "id": "ad1e83d7",
   "metadata": {},
   "source": [
    "### Profile vs Region"
   ]
  },
  {
   "cell_type": "code",
   "execution_count": null,
   "id": "e4bb6699",
   "metadata": {},
   "outputs": [],
   "source": [
    "profile_region_crosstab = pd.crosstab(full_data['profile'], full_data['Region'])\n",
    "print(profile_region_crosstab)\n",
    "\n"
   ]
  },
  {
   "cell_type": "markdown",
   "id": "830a0c34",
   "metadata": {},
   "source": [
    "### Profile vs Department"
   ]
  },
  {
   "cell_type": "code",
   "execution_count": null,
   "id": "938b29eb",
   "metadata": {},
   "outputs": [],
   "source": [
    "profile_department_crosstab = pd.crosstab(full_data['profile'], full_data['department'])\n",
    "print(profile_department_crosstab)\n"
   ]
  },
  {
   "cell_type": "markdown",
   "id": "07abdd9f",
   "metadata": {},
   "source": [
    "## 9. Charts to illustrate the results."
   ]
  },
  {
   "cell_type": "markdown",
   "id": "4d695ec4",
   "metadata": {},
   "source": [
    "### Profile vs Region"
   ]
  },
  {
   "cell_type": "code",
   "execution_count": null,
   "id": "abbc0f7d",
   "metadata": {},
   "outputs": [],
   "source": [
    "# Plotting Profile vs Region\n",
    "plt.figure(figsize=(14, 8))\n",
    "sns.heatmap(profile_region_crosstab, annot=True, fmt='d', cmap='viridis')\n",
    "plt.title('Customer Profiles vs Regions')\n",
    "plt.xlabel('Region')\n",
    "plt.ylabel('Customer Profile')\n",
    "\n",
    "plt.savefig(os.path.join(path, '04 Analysis', 'Visualizations', 'customer_profiles_vs_region.png'), bbox_inches = 'tight')\n",
    "plt.show()"
   ]
  },
  {
   "cell_type": "markdown",
   "id": "d10ce7af",
   "metadata": {},
   "source": [
    "Certain customer profiles are more prevalent in specific regions. For example, \"Senior\" profiles are most common in the South, while \"Single Adult\" profiles are more frequent in the West.The data suggests that marketing strategies could be tailored based on regional preferences. For instance, promotions for seniors could be intensified in the South, while campaigns targeting single adults might be more effective in the West."
   ]
  },
  {
   "cell_type": "markdown",
   "id": "74c3a93d",
   "metadata": {},
   "source": [
    "### Profile vs Department"
   ]
  },
  {
   "cell_type": "code",
   "execution_count": null,
   "id": "3391f26a",
   "metadata": {},
   "outputs": [],
   "source": [
    "# Plotting Profile vs Department\n",
    "plt.figure(figsize=(18, 10))\n",
    "sns.heatmap(profile_department_crosstab, annot=True, fmt='d', cmap='viridis')\n",
    "plt.title('Customer Profiles vs Departments')\n",
    "plt.xlabel('Department ID')\n",
    "plt.ylabel('Customer Profile')\n",
    "\n",
    "plt.savefig(os.path.join(path, '04 Analysis', 'Visualizations', 'customer_profile_vs_department.png'), bbox_inches = 'tight')\n",
    "plt.show()"
   ]
  },
  {
   "cell_type": "markdown",
   "id": "23d150c8",
   "metadata": {},
   "source": [
    "Certain departments have higher concentrations of specific customer profiles. For example, departments 'bakery', 'beverages', 'bulk', 'dairy eggs', 'frozen', and 'personal care' are popular among all customer profiles, particularly seniors and established adults."
   ]
  },
  {
   "cell_type": "markdown",
   "id": "fc3dac3f",
   "metadata": {},
   "source": [
    "## 10.  Export your final data set"
   ]
  },
  {
   "cell_type": "code",
   "execution_count": null,
   "id": "d0669459",
   "metadata": {
    "scrolled": true
   },
   "outputs": [],
   "source": [
    "full_data.to_pickle(os.path.join(path, '02 Data', 'Prepared Data', 'instacart_full_data.pkl'))"
   ]
  },
  {
   "cell_type": "code",
   "execution_count": null,
   "id": "d3a75dce",
   "metadata": {},
   "outputs": [],
   "source": []
  },
  {
   "cell_type": "code",
   "execution_count": null,
   "id": "d7948359",
   "metadata": {},
   "outputs": [],
   "source": []
  }
 ],
 "metadata": {
  "kernelspec": {
   "display_name": "Python 3 (ipykernel)",
   "language": "python",
   "name": "python3"
  },
  "language_info": {
   "codemirror_mode": {
    "name": "ipython",
    "version": 3
   },
   "file_extension": ".py",
   "mimetype": "text/x-python",
   "name": "python",
   "nbconvert_exporter": "python",
   "pygments_lexer": "ipython3",
   "version": "3.9.7"
  }
 },
 "nbformat": 4,
 "nbformat_minor": 5
}
