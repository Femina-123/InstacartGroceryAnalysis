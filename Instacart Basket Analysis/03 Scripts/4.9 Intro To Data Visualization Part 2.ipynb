{
 "cells": [
  {
   "cell_type": "markdown",
   "id": "6ff80728",
   "metadata": {},
   "source": [
    "### Create a new notebook, import the necessary analysis and visualization libraries, then import your most up-to-date project data"
   ]
  },
  {
   "cell_type": "code",
   "execution_count": 1,
   "id": "f464e7f2",
   "metadata": {},
   "outputs": [],
   "source": [
    "# Import libraries\n",
    "import pandas as pd\n",
    "import numpy as np\n",
    "import os\n",
    "import matplotlib.pyplot as plt\n",
    "import seaborn as sns\n",
    "import scipy"
   ]
  },
  {
   "cell_type": "code",
   "execution_count": 2,
   "id": "3546f219",
   "metadata": {},
   "outputs": [],
   "source": [
    "# Define path\n",
    "path = r'C:\\Users\\Lukman\\OneDrive\\Documents\\FEMINA CF\\Data Immerssion\\Achievement4\\Instacart Basket Analysis'"
   ]
  },
  {
   "cell_type": "code",
   "execution_count": 3,
   "id": "ad3544d8",
   "metadata": {},
   "outputs": [],
   "source": [
    "# Import most up-to-date project data\n",
    "instacart = pd.read_pickle(os.path.join(path, '02 Data', 'Prepared Data', 'orders_products_customers_merged.pkl'))"
   ]
  },
  {
   "cell_type": "markdown",
   "id": "f9fb62cf",
   "metadata": {},
   "source": [
    "###  Provide the Instacart senior stakeholders with descriptive findings about sales. Create a histogram of the “order_hour_of_day” column"
   ]
  },
  {
   "cell_type": "code",
   "execution_count": null,
   "id": "d71155ec",
   "metadata": {},
   "outputs": [],
   "source": [
    "\n",
    "plt.figure(figsize=(10, 6))\n",
    "plt.hist(instacart['order_hour_of_day'], bins=24, edgecolor='black')\n",
    "plt.title('Histogram of Order Hour of Day')\n",
    "plt.xlabel('Hour of the Day')\n",
    "plt.ylabel('Number of Orders')\n",
    "plt.xticks(range(24))\n",
    "plt.grid(True)\n",
    "\n",
    "plt.savefig('order_hour_of_day_histogram.png')\n",
    "plt.show()"
   ]
  },
  {
   "cell_type": "markdown",
   "id": "8bd1c4eb",
   "metadata": {},
   "source": [
    "### The marketing team is curious about the distribution of orders among customers in terms of loyalty. Create a bar chart from the “loyalty_flag” column"
   ]
  },
  {
   "cell_type": "code",
   "execution_count": null,
   "id": "3ce42938",
   "metadata": {},
   "outputs": [],
   "source": [
    "\n",
    "# Get the counts of each unique value in 'loyalty_flag'\n",
    "loyalty_flag_counts = instacart['loyalty_flag'].value_counts()\n",
    "\n",
    "# Plotting the bar plot for 'loyalty_flag'\n",
    "plt.figure(figsize=(10, 6))\n",
    "plt.bar(loyalty_flag_counts.index, loyalty_flag_counts.values, edgecolor='black')\n",
    "plt.title('Loyalty Flag Distribution')\n",
    "plt.xlabel('Loyalty Flag')\n",
    "plt.ylabel('Count')\n",
    "plt.grid(True)\n",
    "\n",
    "# Save the figure\n",
    "plt.savefig('loyalty_flag_distribution.png')\n",
    "\n",
    "# Display the plot\n",
    "plt.show()"
   ]
  },
  {
   "cell_type": "markdown",
   "id": "67991539",
   "metadata": {},
   "source": [
    "### Check whether there’s a difference in expenditure (the “prices” column) depending on the hour of the day"
   ]
  },
  {
   "cell_type": "code",
   "execution_count": 4,
   "id": "e46886a5",
   "metadata": {},
   "outputs": [],
   "source": [
    "# Create a random sample by generating a seed\n",
    "np.random.seed(4)"
   ]
  },
  {
   "cell_type": "code",
   "execution_count": 5,
   "id": "160b4f0c",
   "metadata": {},
   "outputs": [],
   "source": [
    "# Create a dev list based on the data split we want (70/30)\n",
    "dev = np.random.rand(len(instacart)) <= 0.7"
   ]
  },
  {
   "cell_type": "code",
   "execution_count": 6,
   "id": "08e39805",
   "metadata": {},
   "outputs": [],
   "source": [
    "# Split the dataframe into two samples\n",
    "big = instacart[dev]\n",
    "small = instacart[~dev]"
   ]
  },
  {
   "cell_type": "code",
   "execution_count": 7,
   "id": "a793dcab",
   "metadata": {},
   "outputs": [
    {
     "data": {
      "text/plain": [
       "32404859"
      ]
     },
     "execution_count": 7,
     "metadata": {},
     "output_type": "execute_result"
    }
   ],
   "source": [
    "# Compare the dataframe length to the sum of the big and small samples\n",
    "len(instacart)"
   ]
  },
  {
   "cell_type": "code",
   "execution_count": 8,
   "id": "822fbb96",
   "metadata": {},
   "outputs": [
    {
     "data": {
      "text/plain": [
       "32404859"
      ]
     },
     "execution_count": 8,
     "metadata": {},
     "output_type": "execute_result"
    }
   ],
   "source": [
    "len(big) + len(small)"
   ]
  },
  {
   "cell_type": "code",
   "execution_count": 9,
   "id": "3506dd03",
   "metadata": {},
   "outputs": [],
   "source": [
    "# Reduce the samples to only the columns needed\n",
    "instacart_2 = small [['order_hour_of_day','prices']]"
   ]
  },
  {
   "cell_type": "code",
   "execution_count": 10,
   "id": "eb544a43",
   "metadata": {},
   "outputs": [
    {
     "data": {
      "text/html": [
       "<div>\n",
       "<style scoped>\n",
       "    .dataframe tbody tr th:only-of-type {\n",
       "        vertical-align: middle;\n",
       "    }\n",
       "\n",
       "    .dataframe tbody tr th {\n",
       "        vertical-align: top;\n",
       "    }\n",
       "\n",
       "    .dataframe thead th {\n",
       "        text-align: right;\n",
       "    }\n",
       "</style>\n",
       "<table border=\"1\" class=\"dataframe\">\n",
       "  <thead>\n",
       "    <tr style=\"text-align: right;\">\n",
       "      <th></th>\n",
       "      <th>order_hour_of_day</th>\n",
       "      <th>prices</th>\n",
       "    </tr>\n",
       "  </thead>\n",
       "  <tbody>\n",
       "    <tr>\n",
       "      <th>0</th>\n",
       "      <td>11</td>\n",
       "      <td>5.800781</td>\n",
       "    </tr>\n",
       "    <tr>\n",
       "      <th>2</th>\n",
       "      <td>21</td>\n",
       "      <td>5.800781</td>\n",
       "    </tr>\n",
       "    <tr>\n",
       "      <th>3</th>\n",
       "      <td>21</td>\n",
       "      <td>9.000000</td>\n",
       "    </tr>\n",
       "    <tr>\n",
       "      <th>6</th>\n",
       "      <td>17</td>\n",
       "      <td>5.800781</td>\n",
       "    </tr>\n",
       "    <tr>\n",
       "      <th>10</th>\n",
       "      <td>20</td>\n",
       "      <td>5.800781</td>\n",
       "    </tr>\n",
       "  </tbody>\n",
       "</table>\n",
       "</div>"
      ],
      "text/plain": [
       "    order_hour_of_day    prices\n",
       "0                  11  5.800781\n",
       "2                  21  5.800781\n",
       "3                  21  9.000000\n",
       "6                  17  5.800781\n",
       "10                 20  5.800781"
      ]
     },
     "execution_count": 10,
     "metadata": {},
     "output_type": "execute_result"
    }
   ],
   "source": [
    "# Check if the subset of the sample was made properly\n",
    "instacart_2.head(5)"
   ]
  },
  {
   "cell_type": "code",
   "execution_count": null,
   "id": "b6604eef",
   "metadata": {},
   "outputs": [],
   "source": [
    "line = sns.lineplot(data=instacart_2, x='order_hour_of_day', y='prices')\n"
   ]
  },
  {
   "cell_type": "markdown",
   "id": "780ee8ed",
   "metadata": {},
   "source": [
    "### Determine whether there’s a connection between age and family situation by creating a line chart exploring the connections between age and number of dependents"
   ]
  },
  {
   "cell_type": "code",
   "execution_count": null,
   "id": "6ec4983f",
   "metadata": {},
   "outputs": [],
   "source": [
    "# Reduce previously made sample to only the columns needed\n",
    "instacart_3 = small [['age','n_dependants']]"
   ]
  },
  {
   "cell_type": "code",
   "execution_count": null,
   "id": "f2637f0c",
   "metadata": {},
   "outputs": [],
   "source": [
    "# Check if the subset of the sample was made properly\n",
    "instacart_3.head(5)"
   ]
  },
  {
   "cell_type": "code",
   "execution_count": null,
   "id": "befcb2b0",
   "metadata": {},
   "outputs": [],
   "source": [
    "# Create a line chart\n",
    "plt.figure(figsize=(12, 6))\n",
    "line_2 = sns.lineplot(data = instacart_3, x = 'age',y = 'n_dependants')\n",
    "line_2.set_title('age_vs_n_dependants')\n",
    "line_2.set_xlabel('age')\n",
    "line.set_ylabel('n_dependants')\n",
    "line.set_xticks(range(24))\n",
    "line.grid(True)\n",
    "\n",
    "# Save the figure\n",
    "plt.savefig('age_vs_n_dependants')\n",
    "\n",
    "# Display the plot\n",
    "plt.show()"
   ]
  },
  {
   "cell_type": "markdown",
   "id": "76664101",
   "metadata": {},
   "source": [
    "The line chart shows no specific relation between age and number of dependants."
   ]
  },
  {
   "cell_type": "markdown",
   "id": "0ec8b408",
   "metadata": {},
   "source": [
    "### Explore whether there’s a connection between age and spending power (income) using a scatterplot"
   ]
  },
  {
   "cell_type": "code",
   "execution_count": null,
   "id": "0f084a4a",
   "metadata": {},
   "outputs": [],
   "source": [
    "instacart_4 = small [['age','income']]"
   ]
  },
  {
   "cell_type": "code",
   "execution_count": null,
   "id": "0b9e6a66",
   "metadata": {},
   "outputs": [],
   "source": [
    "# Create a scatterplot\n",
    "scatterplot = sns.scatterplot(x = 'age', y = 'income',data = instacart_4)"
   ]
  },
  {
   "cell_type": "markdown",
   "id": "92013250",
   "metadata": {},
   "source": [
    "### Export your visualizations as “.png” files in your relevant project folder"
   ]
  },
  {
   "cell_type": "code",
   "execution_count": null,
   "id": "ac07551f",
   "metadata": {},
   "outputs": [],
   "source": [
    "plt.savefig(os.path.join(path, '04 Analysis','Visualizations', 'hist_order_hour_of_day_frequency.png'))"
   ]
  },
  {
   "cell_type": "code",
   "execution_count": null,
   "id": "ed879d03",
   "metadata": {},
   "outputs": [],
   "source": [
    "bar.figure.savefig(os.path.join(path, '04 Analysis','Visualizations', 'loyalty_flag_distribution.png'))"
   ]
  },
  {
   "cell_type": "code",
   "execution_count": null,
   "id": "fabe7adf",
   "metadata": {},
   "outputs": [],
   "source": [
    "line.figure.savefig(os.path.join(path, '04 Analysis','Visualizations', 'change_in_price_over_hours_of_the_day.png'))"
   ]
  },
  {
   "cell_type": "code",
   "execution_count": null,
   "id": "b2ca682d",
   "metadata": {},
   "outputs": [],
   "source": [
    "line_2.figure.savefig(os.path.join(path, '04 Analysis','Visualizations', 'age_vs_n_dependants.png'))"
   ]
  },
  {
   "cell_type": "code",
   "execution_count": null,
   "id": "fd9676bc",
   "metadata": {},
   "outputs": [],
   "source": [
    "scatterplot.figure.savefig(os.path.join(path, '04 Analysis','Visualizations', 'change_in_spending_power_over_age.png'))"
   ]
  }
 ],
 "metadata": {
  "kernelspec": {
   "display_name": "Python 3 (ipykernel)",
   "language": "python",
   "name": "python3"
  },
  "language_info": {
   "codemirror_mode": {
    "name": "ipython",
    "version": 3
   },
   "file_extension": ".py",
   "mimetype": "text/x-python",
   "name": "python",
   "nbconvert_exporter": "python",
   "pygments_lexer": "ipython3",
   "version": "3.9.7"
  }
 },
 "nbformat": 4,
 "nbformat_minor": 5
}
